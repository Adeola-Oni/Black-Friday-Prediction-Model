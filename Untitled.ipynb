{
 "cells": [
  {
   "cell_type": "code",
   "execution_count": 1,
   "metadata": {},
   "outputs": [],
   "source": [
    "import pandas as pd\n",
    "import matplotlib.pyplot as plt\n",
    "import numpy as np"
   ]
  },
  {
   "cell_type": "code",
   "execution_count": 2,
   "metadata": {},
   "outputs": [],
   "source": [
    "dataset = pd.read_csv(\"BlackFriday.csv\")\n",
    "dataset = dataset.dropna()     \n",
    "x_raw = dataset.iloc[:,2:11].values\n",
    "y_raw = dataset.iloc[:,11:].values"
   ]
  },
  {
   "cell_type": "code",
   "execution_count": 6,
   "metadata": {},
   "outputs": [],
   "source": [
    "from sklearn.preprocessing import LabelEncoder, OneHotEncoder\n",
    "labelEncoder_x = LabelEncoder()\n",
    "x_raw[:,0] = labelEncoder_x.fit_transform(x_raw[:,0])\n",
    "x_raw[:,1] = labelEncoder_x.fit_transform(x_raw[:,1])\n",
    "x_raw[:,3] = labelEncoder_x.fit_transform(x_raw[:,3])\n",
    "x_raw[:,4] = labelEncoder_x.fit_transform(x_raw[:,4])\n",
    "onehotencoder = OneHotEncoder(categorical_features = [0,1,3,4])\n",
    "x_raw = onehotencoder.fit_transform(x_raw).toarray()"
   ]
  },
  {
   "cell_type": "code",
   "execution_count": 7,
   "metadata": {},
   "outputs": [],
   "source": [
    "X = np.c_[np.ones(x_raw.shape[0]), x_raw]\n",
    "y = y_raw.reshape(-1,1)"
   ]
  },
  {
   "cell_type": "code",
   "execution_count": 8,
   "metadata": {},
   "outputs": [],
   "source": [
    "def sigmoid(z):\n",
    "    return 1 / (1 + np.exp(-z))\n",
    "\n",
    "def compute_cost(initial_theta, x, y):\n",
    "    \n",
    "    m = x[:,0].size\n",
    "    h = sigmoid(x @ initial_theta)\n",
    "    J = None\n",
    "    J = 1/m *(-np.log(h).T @ y - np.log(1-h).T @ (1-y))[0]\n",
    "    \n",
    "    return J\n",
    "\n",
    "def gradient(theta, x, y):\n",
    "    m = x[:,0].size\n",
    "    h = sigmoid(x @ (theta.reshape(-1,1)))\n",
    "    \n",
    "    grad =(1/m)*x.T @ (h-y)\n",
    "\n",
    "    return(grad.flatten())"
   ]
  },
  {
   "cell_type": "code",
   "execution_count": 9,
   "metadata": {},
   "outputs": [
    {
     "name": "stdout",
     "output_type": "stream",
     "text": [
      "Cost:  0.6931471805590274\n",
      "Grad:  [ -11660.50168617   -2493.0380757    -9167.46361047    -325.59078209\n",
      "   -2177.65153277   -4661.27587382   -2339.36487539    -932.49592459\n",
      "    -807.45313432    -416.66956318   -2787.07358259   -4767.28343722\n",
      "   -4106.14466636   -1545.37290142   -4063.84893595   -2225.76091747\n",
      "   -2045.29433034   -1780.22460098  -96188.15892268   -4702.54985451\n",
      "  -26780.41561256  -76893.80422211 -147270.24050694]\n"
     ]
    }
   ],
   "source": [
    "initial_theta = np.zeros(X.shape[1])\n",
    "cost = compute_cost(initial_theta, X, y)\n",
    "grad = gradient(initial_theta, X, y)\n",
    "print('Cost: ', cost)\n",
    "print('Grad: ', grad)"
   ]
  },
  {
   "cell_type": "code",
   "execution_count": 10,
   "metadata": {},
   "outputs": [
    {
     "name": "stderr",
     "output_type": "stream",
     "text": [
      "C:\\Users\\USER\\Anaconda3\\lib\\site-packages\\ipykernel_launcher.py:9: RuntimeWarning: divide by zero encountered in log\n",
      "  if __name__ == '__main__':\n",
      "C:\\Users\\USER\\Anaconda3\\lib\\site-packages\\ipykernel_launcher.py:9: RuntimeWarning: divide by zero encountered in log\n",
      "  if __name__ == '__main__':\n"
     ]
    }
   ],
   "source": [
    "from scipy.optimize import minimize\n",
    "res = minimize(compute_cost, initial_theta, args=(X,y), method=None, jac=gradient, options={'maxiter':400})"
   ]
  },
  {
   "cell_type": "code",
   "execution_count": null,
   "metadata": {},
   "outputs": [],
   "source": []
  }
 ],
 "metadata": {
  "kernelspec": {
   "display_name": "Python 3",
   "language": "python",
   "name": "python3"
  },
  "language_info": {
   "codemirror_mode": {
    "name": "ipython",
    "version": 3
   },
   "file_extension": ".py",
   "mimetype": "text/x-python",
   "name": "python",
   "nbconvert_exporter": "python",
   "pygments_lexer": "ipython3",
   "version": "3.7.0"
  }
 },
 "nbformat": 4,
 "nbformat_minor": 2
}
